{
 "cells": [
  {
   "cell_type": "code",
   "execution_count": 21,
   "metadata": {},
   "outputs": [],
   "source": [
    "from linkedin_api import Linkedin\n",
    "from concurrent.futures import ThreadPoolExecutor\n",
    "import sqlite3\n",
    "from datetime import datetime\n",
    "\n",
    "# Save in a file called creds.txt on the same directory as this script your email (first line) and linkedin password (second line)\n",
    "f = open(\"creds.txt\")\n",
    "creds = f.readlines()\n",
    "f.close()\n",
    "\n",
    "email = creds[0].split('\\n')[0]\n",
    "password = creds[1].split('\\n')[0]\n",
    "\n",
    "api = Linkedin(email, password)\n",
    "\n",
    "\n",
    "def create_table():\n",
    "    \"\"\"Create database only if it does not exist\"\"\"\n",
    "\n",
    "    conn = sqlite3.connect(\"requested.db\")\n",
    "    c = conn.cursor()\n",
    "\n",
    "    c.execute('''\n",
    "          CREATE TABLE IF NOT EXISTS requested(\n",
    "            [ID] INTEGER PRIMARY KEY, \n",
    "            [LinkedIn_username] TEXT,\n",
    "            [Job title] TEXT,\n",
    "            [Request sent on] TEXT)\n",
    "          ''')      \n",
    "    conn.commit()\n",
    "\n",
    "    c.execute('''\n",
    "          CREATE TABLE IF NOT EXISTS prev_queries(\n",
    "            [ID] INTEGER PRIMARY KEY,\n",
    "            [query] TEXT,\n",
    "            [depth] TEXT\n",
    "          )''' )\n",
    "    conn.commit()\n",
    "\n",
    "    conn.close()\n",
    "\n",
    "\n",
    "def insert_entry(username, job_title, date):\n",
    "    \"\"\"Insert contact into database\"\"\"\n",
    "\n",
    "    conn = sqlite3.connect(\"requested.db\")\n",
    "    c = conn.cursor()\n",
    "\n",
    "    c.execute(f'''\n",
    "          INSERT INTO requested(\n",
    "            [LinkedIn_username],\n",
    "            [Job title],\n",
    "            [Request sent on])\n",
    "          VALUES(\n",
    "            '{username}',\n",
    "            '{job_title}',\n",
    "            '{date}'\n",
    "          )\n",
    "          ''')  \n",
    "    conn.commit()\n",
    "    conn.close()\n",
    "\n",
    "\n",
    "def insert_query(query, depth):\n",
    "    \"\"\"Insert contact into database\"\"\"\n",
    "\n",
    "    conn = sqlite3.connect(\"requested.db\")\n",
    "    c = conn.cursor()\n",
    "\n",
    "    c.execute(f'''\n",
    "          INSERT INTO prev_queries(\n",
    "            [query],\n",
    "            [depth])\n",
    "          VALUES(\n",
    "            '{query}',\n",
    "            '{depth}'\n",
    "          )\n",
    "          ''')  \n",
    "    conn.commit()\n",
    "    conn.close()\n",
    "\n",
    "\n",
    "\n",
    "def check_user(username):\n",
    "    \"\"\"Check if a contact is already in database\"\"\"\n",
    "\n",
    "    conn = sqlite3.connect(\"requested.db\")\n",
    "    c = conn.cursor()\n",
    "\n",
    "    c.execute(f'''\n",
    "         SELECT * FROM requested WHERE Linkedin_username = '{username}';\n",
    "          ''')\n",
    "                     \n",
    "    contact = c.fetchall()\n",
    "    conn.commit()\n",
    "    conn.close()\n",
    "    return contact\n",
    "\n",
    "\n",
    "create_table()\n",
    "\n",
    "def send_contact_request(contact, percent):\n",
    "    \"\"\"Function to send contact request if it's not already on the DB\"\"\"\n",
    "    check = check_user(contact[0])\n",
    "    if len(check) == 0:\n",
    "        try: \n",
    "            Linkedin.add_connection(api,contact[0])\n",
    "            print(percent,\"%  ::  \",\"Request sent to: \", contact)\n",
    "            insert_entry(contact[0], contact[1], datetime.now().strftime(\"%d/%m/%Y %H:%M:%S\"))\n",
    "        except:\n",
    "            pass\n",
    "    else:\n",
    "        print(f\"{percent}%  ::  Contact {contact[0]} was already sent a connection request on {check[0][3]}\")\n",
    "    "
   ]
  },
  {
   "cell_type": "markdown",
   "metadata": {},
   "source": [
    "## Search people by keywords\n",
    "To add more people to the search include in network_depths more values  of: \"F\" (first order), \"S\" (second order), \"O\" (third and other orders)"
   ]
  },
  {
   "cell_type": "code",
   "execution_count": 26,
   "metadata": {},
   "outputs": [],
   "source": [
    "\n",
    "keywords = [\"security\", \"hiring\", \"meta\"]\n",
    "\n",
    "keywords_str = \" \".join(keywords).strip()\n",
    "depths = [\"F\",\"S\"]\n",
    "depths_str = ''.join(depths)\n",
    "people = Linkedin.search_people(api, keywords={keywords_str}, network_depths=depths)"
   ]
  },
  {
   "cell_type": "markdown",
   "metadata": {},
   "source": [
    "In the next block \"threshold\" is the minimum number of keywords that the job title of the person needs to have in order to send him/her a request"
   ]
  },
  {
   "cell_type": "code",
   "execution_count": 27,
   "metadata": {},
   "outputs": [
    {
     "name": "stdout",
     "output_type": "stream",
     "text": [
      "3 requests will be sent\n"
     ]
    }
   ],
   "source": [
    "\n",
    "threshold = 1\n",
    "contact_list = []\n",
    "\n",
    "for person in people:\n",
    "    if person[\"jobtitle\"] != None:\n",
    "        count = 0\n",
    "        add_contact = False\n",
    "        for keyword in keywords:\n",
    "            if keyword.lower() in person[\"jobtitle\"].lower():\n",
    "                count += 1\n",
    "            if count == threshold:\n",
    "                add_contact = True\n",
    "                break\n",
    "        if add_contact:\n",
    "            contact_list.append((person[\"public_id\"], person[\"jobtitle\"]))\n",
    "\n",
    "print(len(contact_list), \"requests will be sent\")\n"
   ]
  },
  {
   "cell_type": "markdown",
   "metadata": {},
   "source": [
    "The next block isn't necessary, only serves to check which recruiters will be contacted"
   ]
  },
  {
   "cell_type": "code",
   "execution_count": null,
   "metadata": {},
   "outputs": [],
   "source": [
    "for contact in contact_list:\n",
    "    print(contact)"
   ]
  },
  {
   "cell_type": "markdown",
   "metadata": {},
   "source": [
    "# Send requests\n",
    "Send requests to selected people. Although threads are used, unfortunatelly it doesn't seem possible to speed up requests. Expect every request to take about 10 seconds to execute"
   ]
  },
  {
   "cell_type": "code",
   "execution_count": null,
   "metadata": {},
   "outputs": [],
   "source": [
    "executor = ThreadPoolExecutor(max_workers=3)\n",
    "insert_query(keywords_str, depths_str)\n",
    "\n",
    "for i,contact in enumerate(contact_list):\n",
    "    percent = int(100*i/len(contact_list))\n",
    "    executor.submit(send_contact_request(contact, percent))\n",
    "    "
   ]
  }
 ],
 "metadata": {
  "kernelspec": {
   "display_name": "Python 3.10.6 64-bit",
   "language": "python",
   "name": "python3"
  },
  "language_info": {
   "codemirror_mode": {
    "name": "ipython",
    "version": 3
   },
   "file_extension": ".py",
   "mimetype": "text/x-python",
   "name": "python",
   "nbconvert_exporter": "python",
   "pygments_lexer": "ipython3",
   "version": "3.10.6"
  },
  "orig_nbformat": 4,
  "vscode": {
   "interpreter": {
    "hash": "b2c5f4f662cf86863f62241d1a87defd5c393f24c25016f0b90e610a97d4cc2d"
   }
  }
 },
 "nbformat": 4,
 "nbformat_minor": 2
}
